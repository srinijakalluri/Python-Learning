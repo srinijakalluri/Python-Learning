{
 "cells": [
  {
   "cell_type": "code",
   "execution_count": 2,
   "id": "42f5b3ec",
   "metadata": {},
   "outputs": [
    {
     "name": "stdout",
     "output_type": "stream",
     "text": [
      "Hello\n"
     ]
    }
   ],
   "source": [
    "#defining and calling a function\n",
    "def my_function() :\n",
    "    print(\"Hello\")\n",
    "my_function()"
   ]
  },
  {
   "cell_type": "code",
   "execution_count": 3,
   "id": "83d4db3f",
   "metadata": {},
   "outputs": [
    {
     "name": "stdout",
     "output_type": "stream",
     "text": [
      "entered number is 7\n"
     ]
    }
   ],
   "source": [
    "#giving arguments\n",
    "def number(a) :\n",
    "    print(f\"entered number is {a}\")\n",
    "number(7)"
   ]
  },
  {
   "cell_type": "code",
   "execution_count": 10,
   "id": "1e6bc994",
   "metadata": {},
   "outputs": [
    {
     "name": "stdout",
     "output_type": "stream",
     "text": [
      "Addition of 18 and 7 is 25\n",
      "Subtraction of 18 and 7 is 11\n",
      "Multiplication of 18 and 7 is 126\n",
      "Division of 18 and 7 is 2.5714285714285716\n",
      "Remainder of 18 and 7 is 4 \n",
      "\n",
      "Addition of 1 and 2 is 3\n",
      "Subtraction of 1 and 2 is -1\n",
      "Multiplication of 1 and 2 is 2\n",
      "Division of 1 and 2 is 0.5\n",
      "Remainder of 1 and 2 is 1 \n",
      "\n"
     ]
    }
   ],
   "source": [
    "#calculator using functions\n",
    "def calci(a,b) :\n",
    "    add=a+b\n",
    "    sub=a-b\n",
    "    mul=a*b\n",
    "    div=a/b\n",
    "    rem=a%b\n",
    "    print(f\"Addition of {a} and {b} is\",a+b)\n",
    "    print(f\"Subtraction of {a} and {b} is {sub}\")\n",
    "    print(f\"Multiplication of {a} and {b} is {mul}\")\n",
    "    print(f\"Division of {a} and {b} is {div}\")\n",
    "    print(f\"Remainder of {a} and {b} is {rem} \\n\")\n",
    "calci(18,7)\n",
    "calci(1,2)"
   ]
  },
  {
   "cell_type": "code",
   "execution_count": null,
   "id": "57d05d87",
   "metadata": {},
   "outputs": [],
   "source": []
  }
 ],
 "metadata": {
  "kernelspec": {
   "display_name": "Python 3",
   "language": "python",
   "name": "python3"
  },
  "language_info": {
   "codemirror_mode": {
    "name": "ipython",
    "version": 3
   },
   "file_extension": ".py",
   "mimetype": "text/x-python",
   "name": "python",
   "nbconvert_exporter": "python",
   "pygments_lexer": "ipython3",
   "version": "3.8.8"
  }
 },
 "nbformat": 4,
 "nbformat_minor": 5
}
