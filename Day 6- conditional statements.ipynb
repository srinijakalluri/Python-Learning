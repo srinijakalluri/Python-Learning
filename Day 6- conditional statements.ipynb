{
 "cells": [
  {
   "cell_type": "code",
   "execution_count": 1,
   "id": "9a10ce29",
   "metadata": {},
   "outputs": [],
   "source": [
    "#grading system for school"
   ]
  },
  {
   "cell_type": "code",
   "execution_count": 2,
   "id": "7f0330b4",
   "metadata": {},
   "outputs": [
    {
     "name": "stdout",
     "output_type": "stream",
     "text": [
      "Enter your marks from 1-100 : 70\n"
     ]
    }
   ],
   "source": [
    "a = int(input(\"Enter your marks from 1-100 : \"))"
   ]
  },
  {
   "cell_type": "code",
   "execution_count": 3,
   "id": "83e31e27",
   "metadata": {},
   "outputs": [
    {
     "name": "stdout",
     "output_type": "stream",
     "text": [
      "your grade is C\n"
     ]
    }
   ],
   "source": [
    "if a<=30 :\n",
    "    print(\"your grade is F\")\n",
    "elif a>30 and a<=50 :\n",
    "    print(\"your grade is D\")\n",
    "elif a>50 and a<=70 :\n",
    "    print(\"your grade is C\")\n",
    "elif a>70 and a<=90 :\n",
    "    print(\"your grade is B\")\n",
    "else :\n",
    "    print(\"your grade is A\")"
   ]
  },
  {
   "cell_type": "code",
   "execution_count": null,
   "id": "c4175314",
   "metadata": {},
   "outputs": [],
   "source": []
  }
 ],
 "metadata": {
  "kernelspec": {
   "display_name": "Python 3",
   "language": "python",
   "name": "python3"
  },
  "language_info": {
   "codemirror_mode": {
    "name": "ipython",
    "version": 3
   },
   "file_extension": ".py",
   "mimetype": "text/x-python",
   "name": "python",
   "nbconvert_exporter": "python",
   "pygments_lexer": "ipython3",
   "version": "3.8.8"
  }
 },
 "nbformat": 4,
 "nbformat_minor": 5
}
