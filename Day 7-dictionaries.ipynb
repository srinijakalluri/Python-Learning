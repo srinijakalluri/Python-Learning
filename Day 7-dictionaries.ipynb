{
 "cells": [
  {
   "cell_type": "code",
   "execution_count": 2,
   "id": "b5558476",
   "metadata": {},
   "outputs": [
    {
     "name": "stdout",
     "output_type": "stream",
     "text": [
      "{'type': 'car', 'color': 'red', 'brand': 'ford'}\n"
     ]
    },
    {
     "data": {
      "text/plain": [
       "dict"
      ]
     },
     "execution_count": 2,
     "metadata": {},
     "output_type": "execute_result"
    }
   ],
   "source": [
    "#creating and printing a dictionary\n",
    "vehicles = {'type':'car', 'color':'red', 'brand':'ford' }\n",
    "print(vehicles)\n",
    "type(vehicles)"
   ]
  },
  {
   "cell_type": "code",
   "execution_count": 4,
   "id": "2ba9f718",
   "metadata": {},
   "outputs": [
    {
     "name": "stdout",
     "output_type": "stream",
     "text": [
      "{'type': 'car', 'color': 'red', 'brand': 'ford', 'year': '2000'}\n"
     ]
    }
   ],
   "source": [
    "#adding elements in a dictionary\n",
    "vehicles['year']='2000'\n",
    "print(vehicles)"
   ]
  },
  {
   "cell_type": "code",
   "execution_count": 5,
   "id": "491e1e20",
   "metadata": {},
   "outputs": [
    {
     "name": "stdout",
     "output_type": "stream",
     "text": [
      "{'type': 'car', 'color': 'red', 'brand': 'maruti', 'year': '2000'}\n"
     ]
    }
   ],
   "source": [
    "#updating elements in a dictionary\n",
    "vehicles['brand']='maruti'\n",
    "print(vehicles)"
   ]
  },
  {
   "cell_type": "code",
   "execution_count": 6,
   "id": "7f34bd53",
   "metadata": {},
   "outputs": [
    {
     "name": "stdout",
     "output_type": "stream",
     "text": [
      "maruti\n",
      "car\n"
     ]
    }
   ],
   "source": [
    "#accessing elements of a dictionary\n",
    "print(vehicles['brand'])\n",
    "print(vehicles['type'])"
   ]
  },
  {
   "cell_type": "code",
   "execution_count": 7,
   "id": "35f0d37a",
   "metadata": {},
   "outputs": [
    {
     "name": "stdout",
     "output_type": "stream",
     "text": [
      "{'type': 'car', 'color': 'red', 'brand': 'maruti'}\n"
     ]
    }
   ],
   "source": [
    "#removing elements from a dictionary\n",
    "vehicles.pop('year')\n",
    "print(vehicles)"
   ]
  },
  {
   "cell_type": "code",
   "execution_count": 8,
   "id": "59daa52c",
   "metadata": {},
   "outputs": [],
   "source": [
    "del vehicles"
   ]
  },
  {
   "cell_type": "code",
   "execution_count": 9,
   "id": "92740021",
   "metadata": {},
   "outputs": [
    {
     "ename": "NameError",
     "evalue": "name 'vehicles' is not defined",
     "output_type": "error",
     "traceback": [
      "\u001b[1;31m---------------------------------------------------------------------------\u001b[0m",
      "\u001b[1;31mNameError\u001b[0m                                 Traceback (most recent call last)",
      "\u001b[1;32m<ipython-input-9-ed879f6586cc>\u001b[0m in \u001b[0;36m<module>\u001b[1;34m\u001b[0m\n\u001b[1;32m----> 1\u001b[1;33m \u001b[0mprint\u001b[0m\u001b[1;33m(\u001b[0m\u001b[0mvehicles\u001b[0m\u001b[1;33m)\u001b[0m\u001b[1;33m\u001b[0m\u001b[1;33m\u001b[0m\u001b[0m\n\u001b[0m",
      "\u001b[1;31mNameError\u001b[0m: name 'vehicles' is not defined"
     ]
    }
   ],
   "source": [
    "print(vehicles)"
   ]
  },
  {
   "cell_type": "code",
   "execution_count": null,
   "id": "1ab095bb",
   "metadata": {},
   "outputs": [],
   "source": []
  }
 ],
 "metadata": {
  "kernelspec": {
   "display_name": "Python 3",
   "language": "python",
   "name": "python3"
  },
  "language_info": {
   "codemirror_mode": {
    "name": "ipython",
    "version": 3
   },
   "file_extension": ".py",
   "mimetype": "text/x-python",
   "name": "python",
   "nbconvert_exporter": "python",
   "pygments_lexer": "ipython3",
   "version": "3.8.8"
  }
 },
 "nbformat": 4,
 "nbformat_minor": 5
}
