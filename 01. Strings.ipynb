{
 "cells": [
  {
   "cell_type": "code",
   "execution_count": 5,
   "id": "1b9b3c14",
   "metadata": {},
   "outputs": [
    {
     "name": "stdout",
     "output_type": "stream",
     "text": [
      "macOS\n",
      "<class 'str'>\n",
      "windows\n",
      "<class 'str'>\n",
      "'linux'\n",
      "<class 'str'>\n"
     ]
    }
   ],
   "source": [
    "a = \"macOS\"\n",
    "b = 'windows'\n",
    "c = \"'linux'\"\n",
    "print(a)\n",
    "print(type(a))\n",
    "print(b)\n",
    "print(type(b))\n",
    "print(c)\n",
    "print(type(c))"
   ]
  },
  {
   "cell_type": "code",
   "execution_count": 2,
   "id": "16cb3e92",
   "metadata": {},
   "outputs": [
    {
     "name": "stdout",
     "output_type": "stream",
     "text": [
      "SRINIJA\n"
     ]
    }
   ],
   "source": [
    "d = \"srinija\"\n",
    "print(d.upper())"
   ]
  },
  {
   "cell_type": "code",
   "execution_count": 3,
   "id": "14cc84b2",
   "metadata": {},
   "outputs": [
    {
     "name": "stdout",
     "output_type": "stream",
     "text": [
      "srinija\n"
     ]
    }
   ],
   "source": [
    "e=\"SRINIJA\"\n",
    "print(e.lower())"
   ]
  },
  {
   "cell_type": "code",
   "execution_count": 4,
   "id": "acfacdaa",
   "metadata": {},
   "outputs": [
    {
     "name": "stdout",
     "output_type": "stream",
     "text": [
      "Srinija\n"
     ]
    }
   ],
   "source": [
    "print(d.title())"
   ]
  }
 ],
 "metadata": {
  "kernelspec": {
   "display_name": "Python 3",
   "language": "python",
   "name": "python3"
  },
  "language_info": {
   "codemirror_mode": {
    "name": "ipython",
    "version": 3
   },
   "file_extension": ".py",
   "mimetype": "text/x-python",
   "name": "python",
   "nbconvert_exporter": "python",
   "pygments_lexer": "ipython3",
   "version": "3.8.8"
  }
 },
 "nbformat": 4,
 "nbformat_minor": 5
}
