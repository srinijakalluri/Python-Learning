{
 "cells": [
  {
   "cell_type": "code",
   "execution_count": 1,
   "id": "5c49935a",
   "metadata": {},
   "outputs": [],
   "source": [
    "#inheritance"
   ]
  },
  {
   "cell_type": "code",
   "execution_count": 1,
   "id": "0710481d",
   "metadata": {},
   "outputs": [],
   "source": [
    "class parent() :\n",
    "    x='srinivas'\n",
    "    def fun1(self) :\n",
    "        print(f'I am parent and my name is {x}')\n",
    "class child(parent) :\n",
    "    y = 'srinija'\n",
    "    print(f'I am child my name is {y}')\n",
    "obj1 = parent()\n",
    "obj2 = child()"
   ]
  },
  {
   "cell_type": "code",
   "execution_count": 2,
   "id": "8b8a258f",
   "metadata": {},
   "outputs": [
    {
     "data": {
      "text/plain": [
       "'srinivas'"
      ]
     },
     "execution_count": 2,
     "metadata": {},
     "output_type": "execute_result"
    }
   ],
   "source": [
    "obj1.x"
   ]
  },
  {
   "cell_type": "code",
   "execution_count": 3,
   "id": "ee446e35",
   "metadata": {},
   "outputs": [
    {
     "data": {
      "text/plain": [
       "'srinija'"
      ]
     },
     "execution_count": 3,
     "metadata": {},
     "output_type": "execute_result"
    }
   ],
   "source": [
    "obj2.y"
   ]
  },
  {
   "cell_type": "code",
   "execution_count": 4,
   "id": "2b936238",
   "metadata": {},
   "outputs": [
    {
     "data": {
      "text/plain": [
       "'srinivas'"
      ]
     },
     "execution_count": 4,
     "metadata": {},
     "output_type": "execute_result"
    }
   ],
   "source": [
    "obj2.x"
   ]
  },
  {
   "cell_type": "code",
   "execution_count": 8,
   "id": "331e5a7f",
   "metadata": {},
   "outputs": [
    {
     "ename": "TypeError",
     "evalue": "fun1() missing 1 required positional argument: 'name1'",
     "output_type": "error",
     "traceback": [
      "\u001b[1;31m---------------------------------------------------------------------------\u001b[0m",
      "\u001b[1;31mTypeError\u001b[0m                                 Traceback (most recent call last)",
      "\u001b[1;32m<ipython-input-8-dc16099c6987>\u001b[0m in \u001b[0;36m<module>\u001b[1;34m\u001b[0m\n\u001b[1;32m----> 1\u001b[1;33m \u001b[0mobj1\u001b[0m\u001b[1;33m.\u001b[0m\u001b[0mfun1\u001b[0m\u001b[1;33m(\u001b[0m\u001b[1;33m)\u001b[0m\u001b[1;33m\u001b[0m\u001b[1;33m\u001b[0m\u001b[0m\n\u001b[0m",
      "\u001b[1;31mTypeError\u001b[0m: fun1() missing 1 required positional argument: 'name1'"
     ]
    }
   ],
   "source": [
    "obj1.fun1()"
   ]
  },
  {
   "cell_type": "code",
   "execution_count": null,
   "id": "73c4222b",
   "metadata": {},
   "outputs": [],
   "source": []
  }
 ],
 "metadata": {
  "kernelspec": {
   "display_name": "Python 3",
   "language": "python",
   "name": "python3"
  },
  "language_info": {
   "codemirror_mode": {
    "name": "ipython",
    "version": 3
   },
   "file_extension": ".py",
   "mimetype": "text/x-python",
   "name": "python",
   "nbconvert_exporter": "python",
   "pygments_lexer": "ipython3",
   "version": "3.8.8"
  }
 },
 "nbformat": 4,
 "nbformat_minor": 5
}
