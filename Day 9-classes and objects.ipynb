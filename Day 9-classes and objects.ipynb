{
 "cells": [
  {
   "cell_type": "code",
   "execution_count": 1,
   "id": "e25c0425",
   "metadata": {},
   "outputs": [],
   "source": [
    "#creating a class and object with variables"
   ]
  },
  {
   "cell_type": "code",
   "execution_count": 4,
   "id": "47a25c0c",
   "metadata": {},
   "outputs": [
    {
     "name": "stdout",
     "output_type": "stream",
     "text": [
      "30\n",
      "30\n"
     ]
    }
   ],
   "source": [
    "class my_class :\n",
    "    a = 10\n",
    "    b = 20\n",
    "    c = a+b\n",
    "    print(c)\n",
    "x = my_class()\n",
    "print(x.c)"
   ]
  },
  {
   "cell_type": "code",
   "execution_count": 5,
   "id": "cd405888",
   "metadata": {},
   "outputs": [],
   "source": [
    "#creating a class and object with methods"
   ]
  },
  {
   "cell_type": "code",
   "execution_count": 25,
   "id": "b405602d",
   "metadata": {},
   "outputs": [
    {
     "name": "stdout",
     "output_type": "stream",
     "text": [
      "sum of two numbers is : 11\n"
     ]
    }
   ],
   "source": [
    "class add :\n",
    "    def my_func(self) :\n",
    "        a = 5\n",
    "        b = 6\n",
    "        print(f'sum of two numbers is : {a+b}')\n",
    "x = add()\n",
    "x.my_func()"
   ]
  },
  {
   "cell_type": "code",
   "execution_count": 9,
   "id": "23297575",
   "metadata": {},
   "outputs": [],
   "source": [
    "#creating a class and object with methods (arguments)"
   ]
  },
  {
   "cell_type": "code",
   "execution_count": 23,
   "id": "26ff6903",
   "metadata": {},
   "outputs": [
    {
     "name": "stdout",
     "output_type": "stream",
     "text": [
      "multiplication of two numbers is : 12\n"
     ]
    }
   ],
   "source": [
    "class mul :\n",
    "    def my_func(self, a, b) :\n",
    "        print(f'multiplication of two numbers is : {a*b}')\n",
    "obj = mul()\n",
    "obj.my_func(3,4)\n"
   ]
  },
  {
   "cell_type": "code",
   "execution_count": 16,
   "id": "87560a72",
   "metadata": {},
   "outputs": [],
   "source": [
    "#creating a class and object with methods (arguments)"
   ]
  },
  {
   "cell_type": "code",
   "execution_count": 24,
   "id": "ad11b70a",
   "metadata": {},
   "outputs": [
    {
     "name": "stdout",
     "output_type": "stream",
     "text": [
      "multiplication of two numbers is : 12\n"
     ]
    }
   ],
   "source": [
    "class mul :\n",
    "    def my_func(self,a,b) :\n",
    "        return a*b\n",
    "obj = mul()\n",
    "print(f'multiplication of two numbers is : {obj.my_func(3,4)}')"
   ]
  },
  {
   "cell_type": "code",
   "execution_count": null,
   "id": "5ae21abf",
   "metadata": {},
   "outputs": [],
   "source": [
    "#creating a class and object with variables and methods"
   ]
  },
  {
   "cell_type": "code",
   "execution_count": 32,
   "id": "570dbdb4",
   "metadata": {},
   "outputs": [
    {
     "name": "stdout",
     "output_type": "stream",
     "text": [
      "My name is srinija and my roll number is 142\n"
     ]
    }
   ],
   "source": [
    "class total :\n",
    "    name = 'srinija' \n",
    "    rno = 142\n",
    "    def my_func(self) :\n",
    "        pass\n",
    "obj = total()\n",
    "print(f'My name is {obj.name} and my roll number is {obj.rno}')"
   ]
  },
  {
   "cell_type": "code",
   "execution_count": null,
   "id": "4eb0a80a",
   "metadata": {},
   "outputs": [],
   "source": []
  }
 ],
 "metadata": {
  "kernelspec": {
   "display_name": "Python 3",
   "language": "python",
   "name": "python3"
  },
  "language_info": {
   "codemirror_mode": {
    "name": "ipython",
    "version": 3
   },
   "file_extension": ".py",
   "mimetype": "text/x-python",
   "name": "python",
   "nbconvert_exporter": "python",
   "pygments_lexer": "ipython3",
   "version": "3.8.8"
  }
 },
 "nbformat": 4,
 "nbformat_minor": 5
}
