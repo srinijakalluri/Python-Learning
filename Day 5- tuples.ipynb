{
 "cells": [
  {
   "cell_type": "code",
   "execution_count": 1,
   "id": "875ce75d",
   "metadata": {},
   "outputs": [],
   "source": [
    "#creating and printing a tuple"
   ]
  },
  {
   "cell_type": "code",
   "execution_count": 2,
   "id": "e1dfdd1d",
   "metadata": {},
   "outputs": [],
   "source": [
    "cartoon1 = ('nobita', 'doraemon', 'shizuka', 'suneo')\n",
    "cartoon2 = ('shinchan', 'sheero')"
   ]
  },
  {
   "cell_type": "code",
   "execution_count": 3,
   "id": "558a6060",
   "metadata": {},
   "outputs": [
    {
     "name": "stdout",
     "output_type": "stream",
     "text": [
      "('nobita', 'doraemon', 'shizuka', 'suneo')\n"
     ]
    },
    {
     "data": {
      "text/plain": [
       "tuple"
      ]
     },
     "execution_count": 3,
     "metadata": {},
     "output_type": "execute_result"
    }
   ],
   "source": [
    "print(cartoon1)\n",
    "type(cartoon1)"
   ]
  },
  {
   "cell_type": "code",
   "execution_count": 4,
   "id": "b2d0f23c",
   "metadata": {},
   "outputs": [
    {
     "name": "stdout",
     "output_type": "stream",
     "text": [
      "('shinchan', 'sheero')\n"
     ]
    },
    {
     "data": {
      "text/plain": [
       "tuple"
      ]
     },
     "execution_count": 4,
     "metadata": {},
     "output_type": "execute_result"
    }
   ],
   "source": [
    "print(cartoon2)\n",
    "type(cartoon2)"
   ]
  },
  {
   "cell_type": "code",
   "execution_count": null,
   "id": "ae2034f9",
   "metadata": {},
   "outputs": [],
   "source": [
    "#updating a tuple (adding of elements)"
   ]
  },
  {
   "cell_type": "code",
   "execution_count": 8,
   "id": "cf539aa1",
   "metadata": {},
   "outputs": [
    {
     "name": "stdout",
     "output_type": "stream",
     "text": [
      "('nobita', 'doraemon', 'shizuka', 'suneo', 'shinchan', 'sheero', 'shinchan', 'sheero', 'shinchan', 'sheero')\n"
     ]
    }
   ],
   "source": [
    "cartoon1 += cartoon2\n",
    "print(cartoon1)"
   ]
  },
  {
   "cell_type": "code",
   "execution_count": 6,
   "id": "6d0cb315",
   "metadata": {},
   "outputs": [],
   "source": [
    "#slicing of elements"
   ]
  },
  {
   "cell_type": "code",
   "execution_count": 9,
   "id": "d5f94eff",
   "metadata": {},
   "outputs": [
    {
     "name": "stdout",
     "output_type": "stream",
     "text": [
      "('suneo', 'shinchan', 'sheero')\n"
     ]
    }
   ],
   "source": [
    "print(cartoon1[3:6])"
   ]
  },
  {
   "cell_type": "code",
   "execution_count": 11,
   "id": "5e326276",
   "metadata": {},
   "outputs": [
    {
     "name": "stdout",
     "output_type": "stream",
     "text": [
      "('nobita', 'doraemon', 'shizuka', 'suneo')\n"
     ]
    }
   ],
   "source": [
    "print(cartoon1[:4])"
   ]
  },
  {
   "cell_type": "code",
   "execution_count": 12,
   "id": "3dbe78b4",
   "metadata": {},
   "outputs": [
    {
     "name": "stdout",
     "output_type": "stream",
     "text": [
      "('shinchan', 'sheero', 'shinchan', 'sheero', 'shinchan', 'sheero')\n"
     ]
    }
   ],
   "source": [
    "print(cartoon1[4:])"
   ]
  },
  {
   "cell_type": "code",
   "execution_count": 14,
   "id": "8abb6a72",
   "metadata": {},
   "outputs": [
    {
     "name": "stdout",
     "output_type": "stream",
     "text": [
      "['srinija', 142, 9.3]\n"
     ]
    },
    {
     "data": {
      "text/plain": [
       "list"
      ]
     },
     "execution_count": 14,
     "metadata": {},
     "output_type": "execute_result"
    }
   ],
   "source": [
    "me = ['srinija', 142, 9.3]\n",
    "print(me)\n",
    "type(me)"
   ]
  },
  {
   "cell_type": "code",
   "execution_count": null,
   "id": "cad9e998",
   "metadata": {},
   "outputs": [],
   "source": []
  }
 ],
 "metadata": {
  "kernelspec": {
   "display_name": "Python 3",
   "language": "python",
   "name": "python3"
  },
  "language_info": {
   "codemirror_mode": {
    "name": "ipython",
    "version": 3
   },
   "file_extension": ".py",
   "mimetype": "text/x-python",
   "name": "python",
   "nbconvert_exporter": "python",
   "pygments_lexer": "ipython3",
   "version": "3.8.8"
  }
 },
 "nbformat": 4,
 "nbformat_minor": 5
}
