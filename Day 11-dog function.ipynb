{
 "cells": [
  {
   "cell_type": "code",
   "execution_count": 1,
   "id": "8a8fbd99",
   "metadata": {},
   "outputs": [],
   "source": [
    "#dog class"
   ]
  },
  {
   "cell_type": "code",
   "execution_count": 2,
   "id": "3f9275bc",
   "metadata": {},
   "outputs": [],
   "source": [
    "class dog :\n",
    "    def __init__(self,name,age) :\n",
    "        self.name = name\n",
    "        self.age = age\n",
    "        print(f'Hi my name is {self.name} and my age is {self.age}')\n",
    "    def adj(self) :\n",
    "        print(f'{self.name} is small')\n",
    "    def verb(self) :\n",
    "        print(f'{self.name} is standing')"
   ]
  },
  {
   "cell_type": "code",
   "execution_count": 3,
   "id": "eca52368",
   "metadata": {},
   "outputs": [
    {
     "name": "stdout",
     "output_type": "stream",
     "text": [
      "Hi my name is tom and my age is 8\n"
     ]
    }
   ],
   "source": [
    "x = dog('tom','8')"
   ]
  },
  {
   "cell_type": "code",
   "execution_count": 4,
   "id": "c17ee075",
   "metadata": {},
   "outputs": [
    {
     "name": "stdout",
     "output_type": "stream",
     "text": [
      "tom is small\n"
     ]
    }
   ],
   "source": [
    "x.adj()"
   ]
  },
  {
   "cell_type": "code",
   "execution_count": 5,
   "id": "54822472",
   "metadata": {},
   "outputs": [
    {
     "name": "stdout",
     "output_type": "stream",
     "text": [
      "tom is standing\n"
     ]
    }
   ],
   "source": [
    "x.verb()"
   ]
  },
  {
   "cell_type": "code",
   "execution_count": 6,
   "id": "41402d9c",
   "metadata": {},
   "outputs": [
    {
     "data": {
      "text/plain": [
       "'tom'"
      ]
     },
     "execution_count": 6,
     "metadata": {},
     "output_type": "execute_result"
    }
   ],
   "source": [
    "x.name"
   ]
  },
  {
   "cell_type": "code",
   "execution_count": 7,
   "id": "ee7986bf",
   "metadata": {},
   "outputs": [
    {
     "data": {
      "text/plain": [
       "'8'"
      ]
     },
     "execution_count": 7,
     "metadata": {},
     "output_type": "execute_result"
    }
   ],
   "source": [
    "x.age"
   ]
  },
  {
   "cell_type": "code",
   "execution_count": null,
   "id": "23ce9bac",
   "metadata": {},
   "outputs": [],
   "source": []
  }
 ],
 "metadata": {
  "kernelspec": {
   "display_name": "Python 3",
   "language": "python",
   "name": "python3"
  },
  "language_info": {
   "codemirror_mode": {
    "name": "ipython",
    "version": 3
   },
   "file_extension": ".py",
   "mimetype": "text/x-python",
   "name": "python",
   "nbconvert_exporter": "python",
   "pygments_lexer": "ipython3",
   "version": "3.8.8"
  }
 },
 "nbformat": 4,
 "nbformat_minor": 5
}
