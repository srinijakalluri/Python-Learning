{
 "cells": [
  {
   "cell_type": "code",
   "execution_count": 1,
   "id": "d0a2a1ea",
   "metadata": {},
   "outputs": [
    {
     "name": "stdout",
     "output_type": "stream",
     "text": [
      "{'tomato', 'brinjal', 'potato'}\n"
     ]
    }
   ],
   "source": [
    "#creating and printing a set\n",
    "veggies = {'tomato','potato','brinjal'}\n",
    "print(veggies)"
   ]
  },
  {
   "cell_type": "code",
   "execution_count": 5,
   "id": "e0e3ab4d",
   "metadata": {},
   "outputs": [
    {
     "name": "stdout",
     "output_type": "stream",
     "text": [
      "{'onion', 'tomato', 'brinjal', 'potato'}\n"
     ]
    }
   ],
   "source": [
    "#adding elements to a set\n",
    "veggies.add('onion')\n",
    "print(veggies)"
   ]
  },
  {
   "cell_type": "code",
   "execution_count": 7,
   "id": "8fa6548b",
   "metadata": {},
   "outputs": [
    {
     "name": "stdout",
     "output_type": "stream",
     "text": [
      "{'apple', 'kiwi', 'mango'}\n",
      "{'apple', 'tomato', 'brinjal', 'potato', 'onion', 'kiwi', 'mango'}\n"
     ]
    }
   ],
   "source": [
    "#updating elements in a set\n",
    "fruits = {'apple','mango','kiwi'}\n",
    "print(fruits)\n",
    "veggies.update(fruits)\n",
    "print(veggies)"
   ]
  },
  {
   "cell_type": "code",
   "execution_count": 9,
   "id": "d80f41a2",
   "metadata": {},
   "outputs": [
    {
     "name": "stdout",
     "output_type": "stream",
     "text": [
      "{'tomato', 'brinjal', 'potato', 'onion', 'kiwi', 'mango'}\n"
     ]
    }
   ],
   "source": [
    "#removing elements from a set\n",
    "veggies.remove('apple')\n",
    "print(veggies)"
   ]
  },
  {
   "cell_type": "code",
   "execution_count": null,
   "id": "887d793c",
   "metadata": {},
   "outputs": [],
   "source": []
  }
 ],
 "metadata": {
  "kernelspec": {
   "display_name": "Python 3",
   "language": "python",
   "name": "python3"
  },
  "language_info": {
   "codemirror_mode": {
    "name": "ipython",
    "version": 3
   },
   "file_extension": ".py",
   "mimetype": "text/x-python",
   "name": "python",
   "nbconvert_exporter": "python",
   "pygments_lexer": "ipython3",
   "version": "3.8.8"
  }
 },
 "nbformat": 4,
 "nbformat_minor": 5
}
