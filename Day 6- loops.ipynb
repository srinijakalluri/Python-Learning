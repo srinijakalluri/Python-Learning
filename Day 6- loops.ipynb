{
 "cells": [
  {
   "cell_type": "code",
   "execution_count": 1,
   "id": "58b1c284",
   "metadata": {},
   "outputs": [],
   "source": [
    "#even numbers within a range using while loop"
   ]
  },
  {
   "cell_type": "code",
   "execution_count": 2,
   "id": "967583b7",
   "metadata": {},
   "outputs": [
    {
     "name": "stdout",
     "output_type": "stream",
     "text": [
      "Enter a starting number : 10\n",
      "Enter an ending number : 30\n",
      "10\n",
      "12\n",
      "14\n",
      "16\n",
      "18\n",
      "20\n",
      "22\n",
      "24\n",
      "26\n",
      "28\n",
      "30\n"
     ]
    }
   ],
   "source": [
    "start = int(input(\"Enter a starting number : \"))\n",
    "end = int(input(\"Enter an ending number : \"))\n",
    "while start<=end :\n",
    "    if start%2==0 :\n",
    "        print(start)\n",
    "    start+=1"
   ]
  },
  {
   "cell_type": "code",
   "execution_count": 3,
   "id": "74c71662",
   "metadata": {},
   "outputs": [],
   "source": [
    "#even numbers within a range using for loop"
   ]
  },
  {
   "cell_type": "code",
   "execution_count": 4,
   "id": "88d1a1c4",
   "metadata": {},
   "outputs": [
    {
     "name": "stdout",
     "output_type": "stream",
     "text": [
      "Enter a starting number : 10\n",
      "Enter an ending number : 30\n",
      "10\n",
      "12\n",
      "14\n",
      "16\n",
      "18\n",
      "20\n",
      "22\n",
      "24\n",
      "26\n",
      "28\n",
      "30\n"
     ]
    }
   ],
   "source": [
    "start = int(input(\"Enter a starting number : \"))\n",
    "end = int(input(\"Enter an ending number : \"))\n",
    "for i in range(start,end+1) :\n",
    "    if i%2==0 :\n",
    "        print(i)\n",
    "    i+=1"
   ]
  },
  {
   "cell_type": "code",
   "execution_count": null,
   "id": "d2c6ea42",
   "metadata": {},
   "outputs": [],
   "source": []
  }
 ],
 "metadata": {
  "kernelspec": {
   "display_name": "Python 3",
   "language": "python",
   "name": "python3"
  },
  "language_info": {
   "codemirror_mode": {
    "name": "ipython",
    "version": 3
   },
   "file_extension": ".py",
   "mimetype": "text/x-python",
   "name": "python",
   "nbconvert_exporter": "python",
   "pygments_lexer": "ipython3",
   "version": "3.8.8"
  }
 },
 "nbformat": 4,
 "nbformat_minor": 5
}
