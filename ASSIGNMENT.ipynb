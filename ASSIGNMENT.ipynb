{
 "cells": [
  {
   "cell_type": "code",
   "execution_count": 8,
   "id": "80e6e31e",
   "metadata": {},
   "outputs": [],
   "source": [
    "#tshirt"
   ]
  },
  {
   "cell_type": "code",
   "execution_count": 7,
   "id": "1ba5c6bf",
   "metadata": {},
   "outputs": [
    {
     "name": "stdout",
     "output_type": "stream",
     "text": [
      "your size is 45 and stay cool :)\n"
     ]
    }
   ],
   "source": [
    "def make_shirt(size,msg) :\n",
    "    print(f'your size is {size} and {msg}')\n",
    "make_shirt(45, 'stay cool :)')"
   ]
  },
  {
   "cell_type": "code",
   "execution_count": 6,
   "id": "c54e94a1",
   "metadata": {},
   "outputs": [
    {
     "name": "stdout",
     "output_type": "stream",
     "text": [
      "your size is 50 and stay cool :)\n"
     ]
    }
   ],
   "source": [
    "make_shirt(msg='stay cool :)', size=50)"
   ]
  },
  {
   "cell_type": "code",
   "execution_count": 9,
   "id": "94829ab4",
   "metadata": {},
   "outputs": [],
   "source": [
    "#large shirts"
   ]
  },
  {
   "cell_type": "code",
   "execution_count": 18,
   "id": "81926869",
   "metadata": {},
   "outputs": [
    {
     "name": "stdout",
     "output_type": "stream",
     "text": [
      "I love Python\n"
     ]
    }
   ],
   "source": [
    "def my_shirt(size) :\n",
    "    if size=='large':\n",
    "        print(\"I love Python\")\n",
    "    elif size=='medium':\n",
    "        print(\"I love Python\")\n",
    "    else :\n",
    "        print(\"your size is neither medium nor large\")\n",
    "my_shirt('medium')"
   ]
  },
  {
   "cell_type": "code",
   "execution_count": 19,
   "id": "41ff7d7c",
   "metadata": {},
   "outputs": [
    {
     "name": "stdout",
     "output_type": "stream",
     "text": [
      "your size is neither medium nor large\n"
     ]
    }
   ],
   "source": [
    "my_shirt('small')"
   ]
  },
  {
   "cell_type": "code",
   "execution_count": 14,
   "id": "8206afb6",
   "metadata": {},
   "outputs": [
    {
     "name": "stdout",
     "output_type": "stream",
     "text": [
      "I love Python\n"
     ]
    }
   ],
   "source": [
    "my_shirt('large')"
   ]
  },
  {
   "cell_type": "code",
   "execution_count": 20,
   "id": "2d92d447",
   "metadata": {},
   "outputs": [
    {
     "name": "stdout",
     "output_type": "stream",
     "text": [
      "your size is neither medium nor large\n"
     ]
    }
   ],
   "source": [
    "my_shirt(50)"
   ]
  },
  {
   "cell_type": "code",
   "execution_count": 21,
   "id": "f36e0235",
   "metadata": {},
   "outputs": [],
   "source": [
    "#cities"
   ]
  },
  {
   "cell_type": "code",
   "execution_count": 22,
   "id": "82ebcee7",
   "metadata": {},
   "outputs": [
    {
     "name": "stdout",
     "output_type": "stream",
     "text": [
      "texas is in america\n"
     ]
    }
   ],
   "source": [
    "def describe_city(city, country='america') :\n",
    "    print(f'{city} is in {country}')\n",
    "describe_city('texas')"
   ]
  },
  {
   "cell_type": "code",
   "execution_count": 23,
   "id": "2cc44802",
   "metadata": {},
   "outputs": [
    {
     "name": "stdout",
     "output_type": "stream",
     "text": [
      "alabama is in america\n"
     ]
    }
   ],
   "source": [
    "describe_city('alabama')"
   ]
  },
  {
   "cell_type": "code",
   "execution_count": 24,
   "id": "e474c9ae",
   "metadata": {},
   "outputs": [
    {
     "name": "stdout",
     "output_type": "stream",
     "text": [
      "hyderabad is in india\n"
     ]
    }
   ],
   "source": [
    "describe_city('hyderabad','india')"
   ]
  },
  {
   "cell_type": "code",
   "execution_count": null,
   "id": "0168836a",
   "metadata": {},
   "outputs": [],
   "source": []
  }
 ],
 "metadata": {
  "kernelspec": {
   "display_name": "Python 3",
   "language": "python",
   "name": "python3"
  },
  "language_info": {
   "codemirror_mode": {
    "name": "ipython",
    "version": 3
   },
   "file_extension": ".py",
   "mimetype": "text/x-python",
   "name": "python",
   "nbconvert_exporter": "python",
   "pygments_lexer": "ipython3",
   "version": "3.8.8"
  }
 },
 "nbformat": 4,
 "nbformat_minor": 5
}
